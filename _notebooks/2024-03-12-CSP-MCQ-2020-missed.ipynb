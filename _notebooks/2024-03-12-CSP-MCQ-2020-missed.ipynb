{
 "cells": [
  {
   "cell_type": "raw",
   "metadata": {},
   "source": [
    "---\n",
    "comments: true\n",
    "layout: post\n",
    "title: MCQ 2021 Reflection\n",
    "description: Questions and sample Python code to represent the  missed questions on the 2021 AP Computer Science A Multiple Choice Exam. \n",
    "type: collab\n",
    "courses: { csp: {week: 3} }\n",
    "---"
   ]
  },
  {
   "cell_type": "markdown",
   "metadata": {},
   "source": [
    "Question 20: A local router is configured to limit the bandwidth of guest users connecting to the Internet. Which of the following best explains the result of this configuration as compared to a configuration in which the router does not limit the bandwidth?\n",
    "- Incorrect Answer: The amount of time it takes guest users to send and receive large files is likely to decrease.\n",
    "- Why Incorrect?: Limiting the bandwidth of a connection is likely to increase the amount of time it takes to send and receive files.\n",
    "- Correct Answer: Guest users will be restricted in the maximum amount of data that they can send and receive per second.\n",
    "- Explanation: The bandwidth of a computer network is the maximum amount of data that can be sent in a fixed amount of time. With limited bandwidth, guest users will be restricted in the amount of data transmitted per second.\n",
    "- Reason + Correction: Did not read the question properly; reread the questions + check answers before submitting\n"
   ]
  },
  {
   "cell_type": "markdown",
   "metadata": {},
   "source": [
    "Question 44: A program developed for a Web store represents customer account balances using a format that approximates real numbers. While testing the program, a software developer discovers that some values appear to be mathematically imprecise. Which of the following is the most likely cause of the imprecision?\n",
    "- Incorrect Answer: The account balances are represented using a fixed number of bits, resulting in overflow errors.\n",
    "- Why Incorrect?: An overflow occurs when a value exceeds the maximum representable value. This type of error does not typically lead to imprecision of values.\n",
    "- Correct Answer: The account balances are represented using a fixed number of bits, resulting in round-off errors.\n",
    "- Explanation: The fixed number of bits used to represent real numbers limits the range of these values; this limitation can result in round-off errors. Round-off errors typically result in imprecise values or results.\n",
    "- Reason + Correction: Did not understand concept. [Khan Academy Extra Review Link](https://www.khanacademy.org/computing/computers-and-internet/xcae6f4a7ff015e7d:digital-information/xcae6f4a7ff015e7d:limitations-of-storing-numbers/a/number-limits-overflow-and-roundoff)"
   ]
  },
  {
   "cell_type": "markdown",
   "metadata": {},
   "source": [
    "Question 48: Which of the following is an example of an attack using a rogue access point?\n",
    "- Incorrect Answer: An unauthorized individual poses as a network administrator and attempts to trick a user into providing personal information.\n",
    "- Why Incorrect?: Tricking a user into providing personal information is an example of a phishing attack. While this type of attack can be used to obtain personal information, it does not allow unauthorized individuals to intercept information transmitted on a network.\n",
    "- Correct Answer: An unauthorized individual gains the ability to view network traffic by connecting to a network router that uses weak or no security measures.\n",
    "- Explanation: A rogue access point is a wireless access point that gives unauthorized access to secure networks. Data sent over public networks can be intercepted, analyzed, and modified. One way that this can happen is through a rogue access point.\n",
    "- Reason + Correction: Did not understand concept. [Khan Academy Extra Practice Link](https://www.khanacademy.org/computing/computers-and-internet/xcae6f4a7ff015e7d:online-data-security/xcae6f4a7ff015e7d:cyber-attacks/a/rogue-access-points-mitm-attacks)"
   ]
  },
  {
   "cell_type": "markdown",
   "metadata": {},
   "source": [
    "Question 55: A code segment is intended to transform the list utensils so that the last element of the list is moved to the beginning of the list.\n",
    "\n",
    "For example, if utensils initially contains  [\"fork\", \"spoon\", \"tongs\", \"spatula\", \"whisk\"], it should contain [\"whisk\", \"fork\", \"spoon\", \"tongs\", \"spatula\"] after executing the code segment.\n",
    "\n",
    "Which of the following code segments transforms the list as intended?\n",
    "- Incorrect Answer: \n",
    "~~~\n",
    "len <- LENGTH(utensils)\n",
    "REMOVE(utensils, len)\n",
    "temp <- utensils[len]\n",
    "INSERT(utensils, 1, temp)\n",
    "~~~\n",
    "- Why Incorrect?: This code segment removes the last element of the list, then attempts to access an element at index len. This causes an error because there is no longer an element at index len.\n",
    "- Correct Answer:\n",
    "~~~\n",
    "len <- LENGTH(utensils)\n",
    "temp <- utensils[len]\n",
    "REMOVE(utensils, len)\n",
    "INSERT(utensils, 1, temp)\n",
    "~~~\n",
    "- Explanation: This code segment assigns the value of the last element of the list to the variable temp, then removes the last element of the list, then inserts temp as the first element of the list.\n",
    "- Reason + Correction: Did read the question properly, next time I will reread the question and check my answers\n",
    "\n",
    "\n"
   ]
  },
  {
   "cell_type": "markdown",
   "metadata": {},
   "source": [
    "Question 48: Which of the following is an example of an attack using a rogue access point?\n",
    "- Incorrect Answer: Users of the application may be able to easily identify all other users in a particular area as a result of the application's algorithm for determining whether users are compatible.\n",
    "- Why Incorrect?: The application only sends notifications to compatible users who are nearby. Since not all people will be considered compatible, users are unlikely to be able to identify all other users in the area.\n",
    "- Correct Answer: Users of the application may see health benefits as a result of the application encouraging them to exercise with each other.\n",
    "- Explanation: The application can be used to connect users with other nearby users, which may encourage users to exercise together. This may have the effect of improving user health.\n",
    "- Reason + Correction: Did not read question properly"
   ]
  },
  {
   "cell_type": "markdown",
   "metadata": {},
   "source": [
    "Question 48: A programmer wants to create a new string by removing the character in position n of the string oldStr. For example, if oldStr is \"best\" and n is 3, then the new string should be \"bet\". Assume that 1 < n < len(oldStr).\n",
    "Which of the following code segments can be used to create the desired new string and store it in newStr ?\n",
    "- Incorrect Answer: None (accidently left blank)\n",
    "- Why Incorrect?: None (accidently left blank)\n",
    "- Correct Answer: \n",
    "- Explanation: The application can be used to connect users with other nearby users, which may encourage users to exercise together. This may have the effect of improving user health.\n",
    "- Reason + Correction: Did not read question properly"
   ]
  }
 ],
 "metadata": {
  "kernelspec": {
   "display_name": "Python 3",
   "language": "python",
   "name": "python3"
  },
  "language_info": {
   "codemirror_mode": {
    "name": "ipython",
    "version": 3
   },
   "file_extension": ".py",
   "mimetype": "text/x-python",
   "name": "python",
   "nbconvert_exporter": "python",
   "pygments_lexer": "ipython3",
   "version": "3.10.12"
  },
  "orig_nbformat": 4
 },
 "nbformat": 4,
 "nbformat_minor": 2
}
