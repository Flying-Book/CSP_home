{
 "cells": [
  {
   "cell_type": "markdown",
   "metadata": {},
   "source": [
    "---\n",
    "toc: True\n",
    "layout: base\n",
    "hide: false\n",
    "title: Data Structures Writeup\n",
    "description: Data Structures Writeup\n",
    "type: tangibles\n",
    "comments: True\n",
    "---"
   ]
  },
  {
   "cell_type": "markdown",
   "metadata": {
    "vscode": {
     "languageId": "html"
    }
   },
   "source": [
    "![image](https://github.com/Flying-Book/CSP_home/assets/88862590/4cc66c12-3ab7-4f5c-9b8a-1e8283c5a76c)\n",
    "![image](https://github.com/Flying-Book/CSP_home/assets/88862590/572b9cc7-144f-419f-860f-9364993765e7)\n",
    "![image](https://github.com/Flying-Book/CSP_home/assets/88862590/17a8b648-a812-4f88-8d85-8f8265bf7d0c)\n",
    "![image](https://github.com/Flying-Book/CSP_home/assets/88862590/c1457cd2-a815-4932-9c59-eb7caac6dc2f)\n",
    "![image](https://github.com/Flying-Book/CSP_home/assets/88862590/2fc4bf5f-eb70-4dce-8526-c30d1132fe95)\n",
    "![image](https://github.com/Flying-Book/CSP_home/assets/88862590/7a02d275-238f-4d6e-b2c5-6e9e21089bcc)\n",
    "![image](https://github.com/Flying-Book/CSP_home/assets/88862590/1a4cc679-c22f-40ce-bd2d-fedc270e655c)\n",
    "![image](https://github.com/Flying-Book/CSP_home/assets/88862590/5ccc9692-8c0c-4776-bfe5-215bf370906f)\n",
    "![image](https://github.com/Flying-Book/CSP_home/assets/88862590/630fbf56-9e2a-494a-9d14-f016bb1731fb)\n",
    "![image](https://github.com/Flying-Book/CSP_home/assets/88862590/390476eb-4dcb-460c-b67f-8ac4e912f48d)\n",
    "![image](https://github.com/Flying-Book/CSP_home/assets/88862590/efbe4c5c-53c9-4f26-b763-2a391e4b18a0)\n",
    "![image](https://github.com/Flying-Book/CSP_home/assets/88862590/00bd36f1-a707-4781-b0c7-713b4d792aaf)\n",
    "![image](https://github.com/Flying-Book/CSP_home/assets/88862590/009c3919-28f6-453d-bc46-6e8dfc138b06)\n",
    "![image](https://github.com/Flying-Book/CSP_home/assets/88862590/a6b5df3c-f497-455f-9818-68e8afca8324)\n",
    "![image](https://github.com/Flying-Book/CSP_home/assets/88862590/23d7f509-4334-47b4-84fb-bc62357875cc)\n",
    "![image](https://github.com/Flying-Book/CSP_home/assets/88862590/9996da64-caaa-4af1-a3d8-3b70141fcbef)\n",
    "![image](https://github.com/Flying-Book/CSP_home/assets/88862590/c0f63592-01a7-4a1d-88ce-07199a69154c)\n",
    "![image](https://github.com/Flying-Book/CSP_home/assets/88862590/f4682556-1e81-438d-8095-185a6d181a1c)\n",
    "\n"
   ]
  },
  {
   "cell_type": "markdown",
   "metadata": {},
   "source": [
    "Linear Regression Algorithm: Plots all the data points and finds the line of best fit (minimize residual values). When independent variables are plugged in (x-axis), dependent variable (in this case calories) is found using the equation of the line of best fit.\n",
    "\n",
    "Decision Tree Algorithm: Uses recursive splitting the data into sets/subsets to create estimate. In simpler words, basically uses grouping and estimates based on this. \n"
   ]
  }
 ],
 "metadata": {
  "language_info": {
   "name": "python"
  }
 },
 "nbformat": 4,
 "nbformat_minor": 2
}
