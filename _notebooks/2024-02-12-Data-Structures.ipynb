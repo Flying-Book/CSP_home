{
 "cells": [
  {
   "cell_type": "markdown",
   "metadata": {},
   "source": [
    "---\n",
    "comments: true\n",
    "layout: post\n",
    "title: Data Structures Writeup\n",
    "description: Data Structures Writeup\n",
    "type: collab\n",
    "courses: { csp: {week: 3} }\n",
    "---"
   ]
  },
  {
   "cell_type": "markdown",
   "metadata": {},
   "source": [
    "# Overview: Data Structures Individual Contribution\n",
    "My contribution to the data structures project was the ML Calorie Predictor and later the Servings of Fuits/Vegetables Suggestor. Both use decision tree ML accesed with the API and Model Code format from Trimester 2. Instead of solely relying on the .csv file, both features use a SQ Lite Database so the ability of CRUD functions including the currently functional get, delete, and post functions all apply to both ML features. Both of these features meet all the college board requirements for lists, student procedures, and dictionaries. These features contrbute to the group Data Structures 2-Triangle Project on Staying Healthy and Fit."
   ]
  },
  {
   "cell_type": "markdown",
   "metadata": {
    "vscode": {
     "languageId": "html"
    }
   },
   "source": [
    "![image](https://github.com/Flying-Book/CSP_home/assets/88862590/3e770559-5a82-4f1a-95c6-a988e494b24f)\n",
    "![image](https://github.com/Flying-Book/CSP_home/assets/88862590/cb1cbc2b-d584-47bd-8ddf-05cd312e417c)\n",
    "![image](https://github.com/Flying-Book/CSP_home/assets/88862590/c27cfa91-2ec4-4f9b-a3d1-0e94be375fd1)\n",
    "---\n",
    "---\n",
    "![image](https://github.com/Flying-Book/CSP_home/assets/88862590/b930a227-eb8d-411f-a210-7b32e4438a43)\n",
    "![image](https://github.com/Flying-Book/CSP_home/assets/88862590/cc59fdb4-908b-46e1-8fdb-1afc15211d90)\n",
    "![image](https://github.com/Flying-Book/CSP_home/assets/88862590/19418e2a-5419-44c0-9fa0-8a06557a5fc7)\n",
    "---\n",
    "---\n",
    "![image](https://github.com/Flying-Book/CSP_home/assets/88862590/4bb6f6c5-eb78-45de-9fe6-01535cd9ab8f)\n",
    "![image](https://github.com/Flying-Book/CSP_home/assets/88862590/aee23856-1f6b-4a9e-9c30-08c8d596264e)\n",
    "![image](https://github.com/Flying-Book/CSP_home/assets/88862590/8a505765-9778-4ee9-bd1d-641104eee335)\n",
    "![image](https://github.com/Flying-Book/CSP_home/assets/88862590/c96e9ccb-f541-40a4-b7c0-452dba8c9a49)\n",
    "![image](https://github.com/Flying-Book/CSP_home/assets/88862590/91de88d6-3886-4790-8dbe-48811b419ea8)\n",
    "![image](https://github.com/Flying-Book/CSP_home/assets/88862590/0752d3b7-2028-415e-a8b5-b2b03b7752fd)\n",
    "![image](https://github.com/Flying-Book/CSP_home/assets/88862590/134c1ed6-1099-4234-a8e3-af0cc510264d)\n",
    "![image](https://github.com/Flying-Book/CSP_home/assets/88862590/80e72a09-7479-4b26-b57a-0378c2e9bef5)\n",
    "---\n",
    "---\n",
    "![image](https://github.com/Flying-Book/CSP_home/assets/88862590/b9a25366-63c0-457c-9086-b8b958e0d903)\n",
    "![image](https://github.com/Flying-Book/CSP_home/assets/88862590/d5db6843-99cf-4252-b422-5e7b4b6b0eec)\n",
    "![image](https://github.com/Flying-Book/CSP_home/assets/88862590/81cff5bd-8a8d-4e1e-80ec-2745bbbeb7c2)\n",
    "![image](https://github.com/Flying-Book/CSP_home/assets/88862590/b8b6e882-12e3-4137-b637-536238c82e86)\n",
    "![image](https://github.com/Flying-Book/CSP_home/assets/88862590/b36d7401-da21-4c0a-a810-247def5c4dab)\n",
    "![image](https://github.com/Flying-Book/CSP_home/assets/88862590/83edfb7d-e283-49ce-92aa-f87a9a5dea66)\n",
    "![image](https://github.com/Flying-Book/CSP_home/assets/88862590/0e57444c-4840-4edb-8f80-eda5cc54cabe)\n",
    "---\n",
    "---\n",
    "![image](https://github.com/Flying-Book/CSP_home/assets/88862590/a2fd9253-de51-4c30-9c58-3a42d135c43c)\n",
    "![image](https://github.com/Flying-Book/CSP_home/assets/88862590/76356322-ca1d-406e-896d-cd96211bed41)\n",
    "![image](https://github.com/Flying-Book/CSP_home/assets/88862590/02dc03f8-8482-47ba-ac31-d7da1a2263d6)\n",
    "---\n",
    "---\n",
    "![image](https://github.com/Flying-Book/CSP_home/assets/88862590/e93fb80d-82a9-4794-af28-806135716b86)"
   ]
  }
 ],
 "metadata": {
  "language_info": {
   "name": "python"
  }
 },
 "nbformat": 4,
 "nbformat_minor": 2
}
